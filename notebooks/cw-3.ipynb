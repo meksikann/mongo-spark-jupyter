{
 "cells": [
  {
   "cell_type": "code",
   "execution_count": 1,
   "id": "e6e6da0a",
   "metadata": {},
   "outputs": [],
   "source": [
    "from pyspark.sql import SparkSession\n"
   ]
  },
  {
   "cell_type": "code",
   "execution_count": 2,
   "id": "4e9cfe07",
   "metadata": {},
   "outputs": [],
   "source": [
    "spark = SparkSession.\\\n",
    "        builder.\\\n",
    "        appName(\"pyspark-notebook2\").\\\n",
    "        master(\"spark://spark-master:7077\").\\\n",
    "        config(\"spark.executor.memory\", \"1g\").\\\n",
    "        config(\"spark.mongodb.input.uri\",\"mongodb://mongo1:27017/classwallet-spark.orders?replicaSet=rs0\").\\\n",
    "        config(\"spark.mongodb.output.uri\",\"mongodb://mongo1:27017/classwallet-spark.categories?replicaSet=rs0\").\\\n",
    "        config(\"spark.jars.packages\", \"org.mongodb.spark:mongo-spark-connector_2.12:3.0.0\").\\\n",
    "        getOrCreate()"
   ]
  },
  {
   "cell_type": "code",
   "execution_count": 3,
   "id": "e5183473",
   "metadata": {},
   "outputs": [],
   "source": [
    "pipeline = [{\n",
    "    '$match': {'status': 'complete'}}, \n",
    "    { '$unwind':'$vendor.items'},\n",
    "     {'$project': {\n",
    "            'itemId':'$vendor.items.itemId',\n",
    "            'total':1, \n",
    "            'customerId':1, \n",
    "            'completed': 1, \n",
    "            'vendorId': '$vendor.vendorId'\n",
    "        }},\n",
    "]\n",
    "\n",
    "\n",
    "orders_df = spark.read.format(\"mongo\").option(\"pipeline\", pipeline).load()"
   ]
  },
  {
   "cell_type": "code",
   "execution_count": 4,
   "id": "f98e0331",
   "metadata": {},
   "outputs": [
    {
     "name": "stdout",
     "output_type": "stream",
     "text": [
      "root\n",
      " |-- _id: struct (nullable = true)\n",
      " |    |-- oid: string (nullable = true)\n",
      " |-- completed: timestamp (nullable = true)\n",
      " |-- itemId: string (nullable = true)\n",
      " |-- total: double (nullable = true)\n",
      " |-- vendorId: string (nullable = true)\n",
      "\n"
     ]
    }
   ],
   "source": [
    "orders_df.printSchema()"
   ]
  },
  {
   "cell_type": "code",
   "execution_count": 21,
   "id": "ea862352",
   "metadata": {},
   "outputs": [],
   "source": [
    "# from pyspark.sql.functions import udf\n",
    "# from pyspark.sql.types import StringType\n",
    "\n",
    "# def array_to_string(my_list):\n",
    "#     return '[' + ','.join([str(elem) for elem in my_list]) + ']'\n",
    "\n",
    "# array_to_string_udf = udf(array_to_string, StringType())\n",
    "\n",
    "# orders_df = orders_df.withColumn('items_string', array_to_string_udf(orders_df['vendor.items']))\n",
    "\n",
    "# orders_df.coalesce(1).write.csv('orders')"
   ]
  },
  {
   "cell_type": "code",
   "execution_count": 17,
   "id": "aba4fe5e",
   "metadata": {},
   "outputs": [
    {
     "data": {
      "text/plain": [
       "357648"
      ]
     },
     "execution_count": 17,
     "metadata": {},
     "output_type": "execute_result"
    }
   ],
   "source": [
    "orders_df.count()\n"
   ]
  },
  {
   "cell_type": "code",
   "execution_count": 14,
   "id": "d74c0cc2",
   "metadata": {},
   "outputs": [
    {
     "name": "stdout",
     "output_type": "stream",
     "text": [
      "_SUCCESS\n"
     ]
    }
   ],
   "source": [
    "!ls orders1a"
   ]
  },
  {
   "cell_type": "code",
   "execution_count": null,
   "id": "6a12db29",
   "metadata": {},
   "outputs": [],
   "source": []
  },
  {
   "cell_type": "code",
   "execution_count": null,
   "id": "03221f76",
   "metadata": {},
   "outputs": [],
   "source": []
  }
 ],
 "metadata": {
  "kernelspec": {
   "display_name": "Python 3",
   "language": "python",
   "name": "python3"
  },
  "language_info": {
   "codemirror_mode": {
    "name": "ipython",
    "version": 3
   },
   "file_extension": ".py",
   "mimetype": "text/x-python",
   "name": "python",
   "nbconvert_exporter": "python",
   "pygments_lexer": "ipython3",
   "version": "3.8.8"
  },
  "widgets": {
   "application/vnd.jupyter.widget-state+json": {
    "state": {},
    "version_major": 2,
    "version_minor": 0
   }
  }
 },
 "nbformat": 4,
 "nbformat_minor": 5
}
